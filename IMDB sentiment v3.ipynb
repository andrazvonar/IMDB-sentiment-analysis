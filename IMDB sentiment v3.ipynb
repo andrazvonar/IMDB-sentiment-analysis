{
 "cells": [
  {
   "cell_type": "code",
   "execution_count": 1,
   "metadata": {},
   "outputs": [
    {
     "name": "stderr",
     "output_type": "stream",
     "text": [
      "Using TensorFlow backend.\n"
     ]
    }
   ],
   "source": [
    "from w2v_utils import *\n",
    "import pandas as pd \n",
    "import os\n",
    "from bs4 import BeautifulSoup \n",
    "# The package comes built-in with Python\n",
    "import re\n",
    "# http://www.nltk.org/install.html\n",
    "import nltk\n",
    "from nltk.corpus import stopwords # Import the stop word list"
   ]
  },
  {
   "cell_type": "code",
   "execution_count": 2,
   "metadata": {
    "collapsed": true
   },
   "outputs": [],
   "source": [
    "from keras.utils import to_categorical\n",
    "from keras.models import Sequential\n",
    "from keras.layers import Dense, Dropout\n",
    "from keras.utils import plot_model"
   ]
  },
  {
   "cell_type": "markdown",
   "metadata": {},
   "source": [
    "## Functions"
   ]
  },
  {
   "cell_type": "code",
   "execution_count": 3,
   "metadata": {
    "collapsed": true
   },
   "outputs": [],
   "source": [
    "def text_to_words(raw_text):\n",
    "    # Function to convert a raw review to a string of words\n",
    "    # The input is a single string (a raw movie review), and \n",
    "    # the output is a single string (a preprocessed movie review)\n",
    "    \n",
    "    # 1. Remove HTML\n",
    "    review_text = BeautifulSoup(raw_text, \"lxml\").get_text() \n",
    "\n",
    "    # 2. Remove non-letters\n",
    "    # Find anything that is NOT a lowercase letter (a-z) or an upper case letter (A-Z), and replace it with a space\n",
    "    letters_only = re.sub(\"[^a-zA-Z]\", \" \", review_text) \n",
    "    \n",
    "    # 3. Convert to lower case, split into individual words\n",
    "    words = letters_only.lower().split()                             \n",
    "    \n",
    "    # 4. In Python, searching a set is much faster than searching\n",
    "    #   a list, so convert the stop words to a set\n",
    "    # stops = set(stopwords.words(\"english\"))\n",
    "    \n",
    "    # There are many other things we could do to the data\n",
    "    # For example, Porter Stemming and Lemmatizing (both available in NLTK) \n",
    "    # would allow us to treat \"messages\", \"message\", and \"messaging\" as the same word\n",
    "    # which could certainly be useful.\n",
    "    \n",
    "    # 5. Remove stop words\n",
    "    meaningful_words = [w for w in words if not w in stops]   \n",
    "    #\n",
    "    # 6. Join the words back into one string separated by space, \n",
    "    # and return the result.\n",
    "    clear_text = \" \".join(meaningful_words)\n",
    "    return clear_text\n",
    "    #validate_text_sentiment[\"Message\"][i] = clear_text \n",
    "    #print i\n",
    "    #return( \" \".join( meaningful_words ))  "
   ]
  },
  {
   "cell_type": "code",
   "execution_count": 4,
   "metadata": {
    "collapsed": true
   },
   "outputs": [],
   "source": [
    "# GRADED FUNCTION: sentence_to_avg\n",
    "\n",
    "def sentence_to_avg(sentence, word_to_vec_map):\n",
    "    \"\"\"\n",
    "    Converts a sentence (string) into a list of words (strings). Extracts the GloVe representation of each word\n",
    "    and averages its value into a single vector encoding the meaning of the sentence.\n",
    "    \n",
    "    Arguments:\n",
    "    sentence -- string, one training example from X\n",
    "    word_to_vec_map -- dictionary mapping every word in a vocabulary into its 50-dimensional vector representation\n",
    "    \n",
    "    Returns:\n",
    "    avg -- average vector encoding information about the sentence, numpy-array of shape (50,)\n",
    "    \"\"\"\n",
    "    \n",
    "    ### START CODE HERE ###\n",
    "    # Step 1: Split sentence into list of lower case words (≈ 1 line)\n",
    "    words = [i.lower() for i in sentence.split()]\n",
    "    \n",
    "    # Remove unknown words\n",
    "    cleaned_words = []\n",
    "    for word in words:\n",
    "        if word not in errors:\n",
    "            cleaned_words.append(word)\n",
    "            \n",
    "    words = cleaned_words\n",
    "        \n",
    "    # Initialize the average word vector, should have the same shape as your word vectors.\n",
    "    avg = np.zeros((50,))\n",
    "    \n",
    "    # Step 2: average the word vectors. You can loop over the words in the list \"words\".\n",
    "    for w in words:\n",
    "        avg += word_to_vec_map[w]\n",
    "    avg = avg / len(words)\n",
    "    \n",
    "    ### END CODE HERE ###\n",
    "    \n",
    "    return avg"
   ]
  },
  {
   "cell_type": "code",
   "execution_count": 5,
   "metadata": {
    "collapsed": true
   },
   "outputs": [],
   "source": [
    "def read_glove_vecs(glove_file):\n",
    "    with open(glove_file, 'r', encoding='utf8') as f:\n",
    "        words = set()\n",
    "        word_to_vec_map = {}\n",
    "        \n",
    "        for line in f:\n",
    "            line = line.strip().split()\n",
    "            curr_word = line[0]\n",
    "            words.add(curr_word)\n",
    "            word_to_vec_map[curr_word] = np.array(line[1:], dtype=np.float64)\n",
    "            \n",
    "    return words, word_to_vec_map"
   ]
  },
  {
   "cell_type": "markdown",
   "metadata": {},
   "source": [
    "## Import data"
   ]
  },
  {
   "cell_type": "code",
   "execution_count": 6,
   "metadata": {
    "collapsed": true
   },
   "outputs": [],
   "source": [
    "df_train = pd.read_csv(\"Data/task_train.csv\")"
   ]
  },
  {
   "cell_type": "code",
   "execution_count": 7,
   "metadata": {
    "collapsed": true
   },
   "outputs": [],
   "source": [
    "df_test = pd.read_csv(\"Data/task_test.csv\")"
   ]
  },
  {
   "cell_type": "code",
   "execution_count": 8,
   "metadata": {
    "collapsed": true
   },
   "outputs": [],
   "source": [
    "words, word_to_vec_map = read_glove_vecs('Data/glove.6B.50d.txt')"
   ]
  },
  {
   "cell_type": "markdown",
   "metadata": {},
   "source": [
    "## Clean and preprocess"
   ]
  },
  {
   "cell_type": "code",
   "execution_count": 13,
   "metadata": {
    "collapsed": true
   },
   "outputs": [],
   "source": [
    "stops = set(stopwords.words(\"english\"))"
   ]
  },
  {
   "cell_type": "code",
   "execution_count": 14,
   "metadata": {
    "collapsed": true
   },
   "outputs": [],
   "source": [
    "df_train['cleaned_text'] = df_train.apply (lambda row: text_to_words(row.review), axis=1)"
   ]
  },
  {
   "cell_type": "code",
   "execution_count": 15,
   "metadata": {
    "collapsed": true
   },
   "outputs": [],
   "source": [
    "df_train = df_test"
   ]
  },
  {
   "cell_type": "code",
   "execution_count": 16,
   "metadata": {},
   "outputs": [],
   "source": [
    "merged = []\n",
    "for review in df_train['cleaned_text']:\n",
    "    merged = merged + review.split()"
   ]
  },
  {
   "cell_type": "code",
   "execution_count": 17,
   "metadata": {},
   "outputs": [
    {
     "data": {
      "text/plain": [
       "303347"
      ]
     },
     "execution_count": 17,
     "metadata": {},
     "output_type": "execute_result"
    }
   ],
   "source": [
    "len(merged)"
   ]
  },
  {
   "cell_type": "code",
   "execution_count": 18,
   "metadata": {
    "collapsed": true
   },
   "outputs": [],
   "source": [
    "vocabulary = np.unique(np.array(merged))"
   ]
  },
  {
   "cell_type": "code",
   "execution_count": 19,
   "metadata": {
    "collapsed": true
   },
   "outputs": [],
   "source": [
    "errors = []\n",
    "\n",
    "for word in vocabulary:\n",
    "    try:\n",
    "        word_to_vec_map[word]\n",
    "    except:\n",
    "        errors.append(word)"
   ]
  },
  {
   "cell_type": "code",
   "execution_count": 20,
   "metadata": {},
   "outputs": [
    {
     "data": {
      "text/plain": [
       "1844"
      ]
     },
     "execution_count": 20,
     "metadata": {},
     "output_type": "execute_result"
    }
   ],
   "source": [
    "len(errors)"
   ]
  },
  {
   "cell_type": "code",
   "execution_count": 21,
   "metadata": {
    "collapsed": true
   },
   "outputs": [],
   "source": [
    "data = []\n",
    "for review in df_train['cleaned_text']:\n",
    "    data.append(sentence_to_avg(review, word_to_vec_map))"
   ]
  },
  {
   "cell_type": "code",
   "execution_count": 134,
   "metadata": {
    "collapsed": true
   },
   "outputs": [],
   "source": [
    "X = np.array(data)\n",
    "y = df_train['sentiment']\n",
    "y = to_categorical(y)"
   ]
  },
  {
   "cell_type": "code",
   "execution_count": 135,
   "metadata": {},
   "outputs": [
    {
     "data": {
      "text/plain": [
       "array([[0., 1.],\n",
       "       [0., 1.],\n",
       "       [1., 0.],\n",
       "       ...,\n",
       "       [1., 0.],\n",
       "       [1., 0.],\n",
       "       [0., 1.]], dtype=float32)"
      ]
     },
     "execution_count": 135,
     "metadata": {},
     "output_type": "execute_result"
    }
   ],
   "source": [
    "y"
   ]
  },
  {
   "cell_type": "code",
   "execution_count": 137,
   "metadata": {
    "collapsed": true
   },
   "outputs": [],
   "source": [
    "X_train, X_test, y_train, y_test = train_test_split(X, y, test_size=0.2, random_state=42)"
   ]
  },
  {
   "cell_type": "code",
   "execution_count": 138,
   "metadata": {},
   "outputs": [
    {
     "data": {
      "text/plain": [
       "(7860, 50)"
      ]
     },
     "execution_count": 138,
     "metadata": {},
     "output_type": "execute_result"
    }
   ],
   "source": [
    "X_train.shape"
   ]
  },
  {
   "cell_type": "code",
   "execution_count": 139,
   "metadata": {},
   "outputs": [
    {
     "data": {
      "text/plain": [
       "(7860, 2)"
      ]
     },
     "execution_count": 139,
     "metadata": {},
     "output_type": "execute_result"
    }
   ],
   "source": [
    "y_train.shape"
   ]
  },
  {
   "cell_type": "markdown",
   "metadata": {},
   "source": [
    "## Model"
   ]
  },
  {
   "cell_type": "code",
   "execution_count": 26,
   "metadata": {
    "collapsed": true
   },
   "outputs": [],
   "source": [
    "model = Sequential()\n",
    "model.add(Dense(32, input_dim=50, activation='relu'))\n",
    "model.add(Dropout(0.5))\n",
    "model.add(Dense(16, activation='relu'))\n",
    "model.add(Dropout(0.5))\n",
    "model.add(Dense(2, activation='softmax'))"
   ]
  },
  {
   "cell_type": "code",
   "execution_count": 27,
   "metadata": {
    "collapsed": true
   },
   "outputs": [],
   "source": [
    "model.compile(optimizer='adam', loss='binary_crossentropy', metrics=['accuracy'])"
   ]
  },
  {
   "cell_type": "code",
   "execution_count": 36,
   "metadata": {},
   "outputs": [
    {
     "name": "stdout",
     "output_type": "stream",
     "text": [
      "Train on 6288 samples, validate on 1572 samples\n",
      "Epoch 1/100\n",
      "6288/6288 [==============================] - 0s 8us/step - loss: 0.4835 - acc: 0.7882 - val_loss: 0.4729 - val_acc: 0.7805\n",
      "Epoch 2/100\n",
      "6288/6288 [==============================] - 0s 9us/step - loss: 0.4863 - acc: 0.7848 - val_loss: 0.4713 - val_acc: 0.7799\n",
      "Epoch 3/100\n",
      "6288/6288 [==============================] - 0s 8us/step - loss: 0.4885 - acc: 0.7801 - val_loss: 0.4699 - val_acc: 0.7863\n",
      "Epoch 4/100\n",
      "6288/6288 [==============================] - 0s 8us/step - loss: 0.4822 - acc: 0.7842 - val_loss: 0.4699 - val_acc: 0.7818\n",
      "Epoch 5/100\n",
      "6288/6288 [==============================] - 0s 8us/step - loss: 0.4797 - acc: 0.7850 - val_loss: 0.4703 - val_acc: 0.7786\n",
      "Epoch 6/100\n",
      "6288/6288 [==============================] - 0s 8us/step - loss: 0.4793 - acc: 0.7880 - val_loss: 0.4696 - val_acc: 0.7754\n",
      "Epoch 7/100\n",
      "6288/6288 [==============================] - 0s 8us/step - loss: 0.4756 - acc: 0.7864 - val_loss: 0.4696 - val_acc: 0.7793\n",
      "Epoch 8/100\n",
      "6288/6288 [==============================] - 0s 7us/step - loss: 0.4867 - acc: 0.7828 - val_loss: 0.4701 - val_acc: 0.7812\n",
      "Epoch 9/100\n",
      "6288/6288 [==============================] - 0s 9us/step - loss: 0.4870 - acc: 0.7821 - val_loss: 0.4706 - val_acc: 0.7856\n",
      "Epoch 10/100\n",
      "6288/6288 [==============================] - 0s 8us/step - loss: 0.4784 - acc: 0.7894 - val_loss: 0.4709 - val_acc: 0.7837\n",
      "Epoch 11/100\n",
      "6288/6288 [==============================] - 0s 8us/step - loss: 0.4837 - acc: 0.7831 - val_loss: 0.4700 - val_acc: 0.7824\n",
      "Epoch 12/100\n",
      "6288/6288 [==============================] - 0s 8us/step - loss: 0.4858 - acc: 0.7844 - val_loss: 0.4707 - val_acc: 0.7812\n",
      "Epoch 13/100\n",
      "6288/6288 [==============================] - 0s 8us/step - loss: 0.4810 - acc: 0.7829 - val_loss: 0.4701 - val_acc: 0.7812\n",
      "Epoch 14/100\n",
      "6288/6288 [==============================] - 0s 8us/step - loss: 0.4838 - acc: 0.7861 - val_loss: 0.4723 - val_acc: 0.7844\n",
      "Epoch 15/100\n",
      "6288/6288 [==============================] - 0s 8us/step - loss: 0.4816 - acc: 0.7807 - val_loss: 0.4705 - val_acc: 0.7812\n",
      "Epoch 16/100\n",
      "6288/6288 [==============================] - 0s 8us/step - loss: 0.4786 - acc: 0.7869 - val_loss: 0.4709 - val_acc: 0.7799\n",
      "Epoch 17/100\n",
      "6288/6288 [==============================] - 0s 7us/step - loss: 0.4773 - acc: 0.7836 - val_loss: 0.4701 - val_acc: 0.7742\n",
      "Epoch 18/100\n",
      "6288/6288 [==============================] - 0s 8us/step - loss: 0.4797 - acc: 0.7836 - val_loss: 0.4712 - val_acc: 0.7805\n",
      "Epoch 19/100\n",
      "6288/6288 [==============================] - 0s 7us/step - loss: 0.4860 - acc: 0.7818 - val_loss: 0.4725 - val_acc: 0.7812\n",
      "Epoch 20/100\n",
      "6288/6288 [==============================] - 0s 8us/step - loss: 0.4842 - acc: 0.7850 - val_loss: 0.4720 - val_acc: 0.7805\n",
      "Epoch 21/100\n",
      "6288/6288 [==============================] - 0s 8us/step - loss: 0.4835 - acc: 0.7828 - val_loss: 0.4704 - val_acc: 0.7774\n",
      "Epoch 22/100\n",
      "6288/6288 [==============================] - 0s 9us/step - loss: 0.4760 - acc: 0.7875 - val_loss: 0.4711 - val_acc: 0.7812\n",
      "Epoch 23/100\n",
      "6288/6288 [==============================] - 0s 8us/step - loss: 0.4828 - acc: 0.7848 - val_loss: 0.4708 - val_acc: 0.7799\n",
      "Epoch 24/100\n",
      "6288/6288 [==============================] - 0s 9us/step - loss: 0.4802 - acc: 0.7831 - val_loss: 0.4704 - val_acc: 0.7793\n",
      "Epoch 25/100\n",
      "6288/6288 [==============================] - 0s 11us/step - loss: 0.4707 - acc: 0.7920 - val_loss: 0.4721 - val_acc: 0.7780\n",
      "Epoch 26/100\n",
      "6288/6288 [==============================] - 0s 10us/step - loss: 0.4858 - acc: 0.7851 - val_loss: 0.4711 - val_acc: 0.7761\n",
      "Epoch 27/100\n",
      "6288/6288 [==============================] - 0s 10us/step - loss: 0.4827 - acc: 0.7847 - val_loss: 0.4721 - val_acc: 0.7780\n",
      "Epoch 28/100\n",
      "6288/6288 [==============================] - 0s 9us/step - loss: 0.4796 - acc: 0.7858 - val_loss: 0.4719 - val_acc: 0.7793\n",
      "Epoch 29/100\n",
      "6288/6288 [==============================] - 0s 12us/step - loss: 0.4752 - acc: 0.7869 - val_loss: 0.4719 - val_acc: 0.7799\n",
      "Epoch 30/100\n",
      "6288/6288 [==============================] - 0s 12us/step - loss: 0.4788 - acc: 0.7863 - val_loss: 0.4720 - val_acc: 0.7761\n",
      "Epoch 31/100\n",
      "6288/6288 [==============================] - 0s 9us/step - loss: 0.4824 - acc: 0.7871 - val_loss: 0.4731 - val_acc: 0.7831\n",
      "Epoch 32/100\n",
      "6288/6288 [==============================] - 0s 8us/step - loss: 0.4820 - acc: 0.7871 - val_loss: 0.4721 - val_acc: 0.7793\n",
      "Epoch 33/100\n",
      "6288/6288 [==============================] - 0s 8us/step - loss: 0.4831 - acc: 0.7869 - val_loss: 0.4724 - val_acc: 0.7812\n",
      "Epoch 34/100\n",
      "6288/6288 [==============================] - 0s 8us/step - loss: 0.4814 - acc: 0.7885 - val_loss: 0.4723 - val_acc: 0.7818\n",
      "Epoch 35/100\n",
      "6288/6288 [==============================] - 0s 12us/step - loss: 0.4808 - acc: 0.7839 - val_loss: 0.4715 - val_acc: 0.7793\n",
      "Epoch 36/100\n",
      "6288/6288 [==============================] - 0s 12us/step - loss: 0.4867 - acc: 0.7828 - val_loss: 0.4730 - val_acc: 0.7844\n",
      "Epoch 37/100\n",
      "6288/6288 [==============================] - 0s 10us/step - loss: 0.4795 - acc: 0.7885 - val_loss: 0.4723 - val_acc: 0.7799\n",
      "Epoch 38/100\n",
      "6288/6288 [==============================] - 0s 10us/step - loss: 0.4830 - acc: 0.7826 - val_loss: 0.4725 - val_acc: 0.7831\n",
      "Epoch 39/100\n",
      "6288/6288 [==============================] - 0s 10us/step - loss: 0.4729 - acc: 0.7902 - val_loss: 0.4723 - val_acc: 0.7729\n",
      "Epoch 40/100\n",
      "6288/6288 [==============================] - 0s 14us/step - loss: 0.4746 - acc: 0.7888 - val_loss: 0.4731 - val_acc: 0.7780\n",
      "Epoch 41/100\n",
      "6288/6288 [==============================] - 0s 13us/step - loss: 0.4815 - acc: 0.7925 - val_loss: 0.4722 - val_acc: 0.7799\n",
      "Epoch 42/100\n",
      "6288/6288 [==============================] - 0s 10us/step - loss: 0.4827 - acc: 0.7834 - val_loss: 0.4732 - val_acc: 0.7812\n",
      "Epoch 43/100\n",
      "6288/6288 [==============================] - 0s 11us/step - loss: 0.4818 - acc: 0.7848 - val_loss: 0.4726 - val_acc: 0.7780\n",
      "Epoch 44/100\n",
      "6288/6288 [==============================] - 0s 21us/step - loss: 0.4816 - acc: 0.7856 - val_loss: 0.4731 - val_acc: 0.7767\n",
      "Epoch 45/100\n",
      "6288/6288 [==============================] - 0s 13us/step - loss: 0.4825 - acc: 0.7816 - val_loss: 0.4718 - val_acc: 0.7774\n",
      "Epoch 46/100\n",
      "6288/6288 [==============================] - 0s 10us/step - loss: 0.4823 - acc: 0.7874 - val_loss: 0.4733 - val_acc: 0.7786\n",
      "Epoch 47/100\n",
      "6288/6288 [==============================] - 0s 10us/step - loss: 0.4813 - acc: 0.7820 - val_loss: 0.4733 - val_acc: 0.7780\n",
      "Epoch 48/100\n",
      "6288/6288 [==============================] - 0s 11us/step - loss: 0.4830 - acc: 0.7801 - val_loss: 0.4729 - val_acc: 0.7786\n",
      "Epoch 49/100\n",
      "6288/6288 [==============================] - 0s 10us/step - loss: 0.4756 - acc: 0.7842 - val_loss: 0.4725 - val_acc: 0.7774\n",
      "Epoch 50/100\n",
      "6288/6288 [==============================] - 0s 9us/step - loss: 0.4777 - acc: 0.7851 - val_loss: 0.4731 - val_acc: 0.7767\n",
      "Epoch 51/100\n",
      "6288/6288 [==============================] - 0s 8us/step - loss: 0.4808 - acc: 0.7864 - val_loss: 0.4731 - val_acc: 0.7799\n",
      "Epoch 52/100\n",
      "6288/6288 [==============================] - 0s 8us/step - loss: 0.4761 - acc: 0.7874 - val_loss: 0.4727 - val_acc: 0.7799\n",
      "Epoch 53/100\n",
      "6288/6288 [==============================] - 0s 8us/step - loss: 0.4754 - acc: 0.7809 - val_loss: 0.4726 - val_acc: 0.7761\n",
      "Epoch 54/100\n",
      "6288/6288 [==============================] - 0s 8us/step - loss: 0.4859 - acc: 0.7813 - val_loss: 0.4725 - val_acc: 0.7774\n",
      "Epoch 55/100\n",
      "6288/6288 [==============================] - 0s 10us/step - loss: 0.4842 - acc: 0.7847 - val_loss: 0.4726 - val_acc: 0.7799\n",
      "Epoch 56/100\n",
      "6288/6288 [==============================] - 0s 13us/step - loss: 0.4817 - acc: 0.7853 - val_loss: 0.4740 - val_acc: 0.7780\n",
      "Epoch 57/100\n",
      "6288/6288 [==============================] - 0s 12us/step - loss: 0.4724 - acc: 0.7910 - val_loss: 0.4753 - val_acc: 0.7786\n",
      "Epoch 58/100\n",
      "6288/6288 [==============================] - 0s 13us/step - loss: 0.4757 - acc: 0.7847 - val_loss: 0.4728 - val_acc: 0.7805\n",
      "Epoch 59/100\n",
      "6288/6288 [==============================] - 0s 9us/step - loss: 0.4776 - acc: 0.7848 - val_loss: 0.4727 - val_acc: 0.7774\n",
      "Epoch 60/100\n",
      "6288/6288 [==============================] - 0s 7us/step - loss: 0.4789 - acc: 0.7844 - val_loss: 0.4731 - val_acc: 0.7774\n"
     ]
    },
    {
     "name": "stdout",
     "output_type": "stream",
     "text": [
      "Epoch 61/100\n",
      "6288/6288 [==============================] - 0s 7us/step - loss: 0.4758 - acc: 0.7810 - val_loss: 0.4729 - val_acc: 0.7767\n",
      "Epoch 62/100\n",
      "6288/6288 [==============================] - 0s 12us/step - loss: 0.4786 - acc: 0.7851 - val_loss: 0.4745 - val_acc: 0.7774\n",
      "Epoch 63/100\n",
      "6288/6288 [==============================] - 0s 13us/step - loss: 0.4872 - acc: 0.7858 - val_loss: 0.4738 - val_acc: 0.7786\n",
      "Epoch 64/100\n",
      "6288/6288 [==============================] - 0s 11us/step - loss: 0.4804 - acc: 0.7824 - val_loss: 0.4738 - val_acc: 0.7761\n",
      "Epoch 65/100\n",
      "6288/6288 [==============================] - 0s 8us/step - loss: 0.4782 - acc: 0.7890 - val_loss: 0.4731 - val_acc: 0.7799\n",
      "Epoch 66/100\n",
      "6288/6288 [==============================] - 0s 7us/step - loss: 0.4821 - acc: 0.7832 - val_loss: 0.4732 - val_acc: 0.7761\n",
      "Epoch 67/100\n",
      "6288/6288 [==============================] - 0s 7us/step - loss: 0.4815 - acc: 0.7831 - val_loss: 0.4738 - val_acc: 0.7754\n",
      "Epoch 68/100\n",
      "6288/6288 [==============================] - 0s 7us/step - loss: 0.4745 - acc: 0.7875 - val_loss: 0.4735 - val_acc: 0.7774\n",
      "Epoch 69/100\n",
      "6288/6288 [==============================] - 0s 7us/step - loss: 0.4819 - acc: 0.7829 - val_loss: 0.4733 - val_acc: 0.7735\n",
      "Epoch 70/100\n",
      "6288/6288 [==============================] - 0s 7us/step - loss: 0.4752 - acc: 0.7875 - val_loss: 0.4739 - val_acc: 0.7818\n",
      "Epoch 71/100\n",
      "6288/6288 [==============================] - 0s 7us/step - loss: 0.4748 - acc: 0.7901 - val_loss: 0.4738 - val_acc: 0.7780\n",
      "Epoch 72/100\n",
      "6288/6288 [==============================] - 0s 7us/step - loss: 0.4857 - acc: 0.7844 - val_loss: 0.4734 - val_acc: 0.7780\n",
      "Epoch 73/100\n",
      "6288/6288 [==============================] - 0s 7us/step - loss: 0.4820 - acc: 0.7877 - val_loss: 0.4725 - val_acc: 0.7793\n",
      "Epoch 74/100\n",
      "6288/6288 [==============================] - 0s 7us/step - loss: 0.4750 - acc: 0.7888 - val_loss: 0.4734 - val_acc: 0.7742\n",
      "Epoch 75/100\n",
      "6288/6288 [==============================] - 0s 7us/step - loss: 0.4803 - acc: 0.7901 - val_loss: 0.4752 - val_acc: 0.7812\n",
      "Epoch 76/100\n",
      "6288/6288 [==============================] - 0s 7us/step - loss: 0.4762 - acc: 0.7842 - val_loss: 0.4751 - val_acc: 0.7824\n",
      "Epoch 77/100\n",
      "6288/6288 [==============================] - 0s 7us/step - loss: 0.4752 - acc: 0.7904 - val_loss: 0.4736 - val_acc: 0.7799\n",
      "Epoch 78/100\n",
      "6288/6288 [==============================] - 0s 7us/step - loss: 0.4775 - acc: 0.7850 - val_loss: 0.4734 - val_acc: 0.7704\n",
      "Epoch 79/100\n",
      "6288/6288 [==============================] - 0s 8us/step - loss: 0.4853 - acc: 0.7834 - val_loss: 0.4752 - val_acc: 0.7761\n",
      "Epoch 80/100\n",
      "6288/6288 [==============================] - 0s 8us/step - loss: 0.4799 - acc: 0.7829 - val_loss: 0.4741 - val_acc: 0.7742\n",
      "Epoch 81/100\n",
      "6288/6288 [==============================] - 0s 8us/step - loss: 0.4798 - acc: 0.7872 - val_loss: 0.4752 - val_acc: 0.7767\n",
      "Epoch 82/100\n",
      "6288/6288 [==============================] - 0s 7us/step - loss: 0.4786 - acc: 0.7891 - val_loss: 0.4757 - val_acc: 0.7780\n",
      "Epoch 83/100\n",
      "6288/6288 [==============================] - 0s 7us/step - loss: 0.4822 - acc: 0.7831 - val_loss: 0.4728 - val_acc: 0.7697\n",
      "Epoch 84/100\n",
      "6288/6288 [==============================] - 0s 7us/step - loss: 0.4749 - acc: 0.7920 - val_loss: 0.4751 - val_acc: 0.7761\n",
      "Epoch 85/100\n",
      "6288/6288 [==============================] - 0s 8us/step - loss: 0.4723 - acc: 0.7926 - val_loss: 0.4736 - val_acc: 0.7793\n",
      "Epoch 86/100\n",
      "6288/6288 [==============================] - 0s 10us/step - loss: 0.4779 - acc: 0.7848 - val_loss: 0.4744 - val_acc: 0.7754\n",
      "Epoch 87/100\n",
      "6288/6288 [==============================] - 0s 12us/step - loss: 0.4872 - acc: 0.7794 - val_loss: 0.4760 - val_acc: 0.7735\n",
      "Epoch 88/100\n",
      "6288/6288 [==============================] - 0s 12us/step - loss: 0.4783 - acc: 0.7871 - val_loss: 0.4750 - val_acc: 0.7780\n",
      "Epoch 89/100\n",
      "6288/6288 [==============================] - 0s 10us/step - loss: 0.4835 - acc: 0.7890 - val_loss: 0.4740 - val_acc: 0.7729\n",
      "Epoch 90/100\n",
      "6288/6288 [==============================] - 0s 9us/step - loss: 0.4759 - acc: 0.7894 - val_loss: 0.4758 - val_acc: 0.7735\n",
      "Epoch 91/100\n",
      "6288/6288 [==============================] - 0s 8us/step - loss: 0.4768 - acc: 0.7886 - val_loss: 0.4750 - val_acc: 0.7716\n",
      "Epoch 92/100\n",
      "6288/6288 [==============================] - 0s 8us/step - loss: 0.4829 - acc: 0.7770 - val_loss: 0.4741 - val_acc: 0.7723\n",
      "Epoch 93/100\n",
      "6288/6288 [==============================] - 0s 7us/step - loss: 0.4780 - acc: 0.7883 - val_loss: 0.4753 - val_acc: 0.7729\n",
      "Epoch 94/100\n",
      "6288/6288 [==============================] - 0s 7us/step - loss: 0.4822 - acc: 0.7890 - val_loss: 0.4751 - val_acc: 0.7665\n",
      "Epoch 95/100\n",
      "6288/6288 [==============================] - 0s 7us/step - loss: 0.4807 - acc: 0.7859 - val_loss: 0.4746 - val_acc: 0.7748\n",
      "Epoch 96/100\n",
      "6288/6288 [==============================] - 0s 7us/step - loss: 0.4774 - acc: 0.7921 - val_loss: 0.4751 - val_acc: 0.7799\n",
      "Epoch 97/100\n",
      "6288/6288 [==============================] - 0s 13us/step - loss: 0.4798 - acc: 0.7855 - val_loss: 0.4744 - val_acc: 0.7729\n",
      "Epoch 98/100\n",
      "6288/6288 [==============================] - 0s 12us/step - loss: 0.4784 - acc: 0.7855 - val_loss: 0.4757 - val_acc: 0.7780\n",
      "Epoch 99/100\n",
      "6288/6288 [==============================] - 0s 10us/step - loss: 0.4768 - acc: 0.7864 - val_loss: 0.4753 - val_acc: 0.7761\n",
      "Epoch 100/100\n",
      "6288/6288 [==============================] - 0s 7us/step - loss: 0.4776 - acc: 0.7869 - val_loss: 0.4750 - val_acc: 0.7723\n"
     ]
    },
    {
     "data": {
      "text/plain": [
       "<keras.callbacks.History at 0x1a24f2e4a8>"
      ]
     },
     "execution_count": 36,
     "metadata": {},
     "output_type": "execute_result"
    }
   ],
   "source": [
    "model.fit(X_train, y_train, epochs=100, batch_size=512, validation_split=0.20)"
   ]
  },
  {
   "cell_type": "code",
   "execution_count": 63,
   "metadata": {
    "collapsed": true
   },
   "outputs": [],
   "source": [
    "model.save_weights('model2.h5')"
   ]
  },
  {
   "cell_type": "code",
   "execution_count": 38,
   "metadata": {},
   "outputs": [
    {
     "name": "stdout",
     "output_type": "stream",
     "text": [
      "Evaluating training data\n",
      "====================================================================\n",
      "7860/7860 [==============================] - 0s 29us/step\n",
      "Test accuracy =  0.795292620865\n",
      "====================================================================\n",
      "\n",
      "Evaluating testing data\n",
      "====================================================================\n",
      "1966/1966 [==============================] - 0s 29us/step\n",
      "Test accuracy =  0.763987792533\n",
      "====================================================================\n"
     ]
    }
   ],
   "source": [
    "#get TRAINING loss and acc\n",
    "print(\"Evaluating training data\")\n",
    "print(\"====================================================================\")\n",
    "train_score = model.evaluate(X_train, y_train)\n",
    "print(\"Test accuracy = \", train_score[1]) \n",
    "print(\"====================================================================\")\n",
    "\n",
    "print()\n",
    "#get TEST loss and acc\n",
    "print(\"Evaluating testing data\")\n",
    "print(\"====================================================================\")\n",
    "test_score = model.evaluate(X_test, y_test)\n",
    "Y_test_hat = np.argmax(model.predict(X_test),axis=1)\n",
    "print(\"Test accuracy = \", test_score[1]) \n",
    "print(\"====================================================================\")"
   ]
  },
  {
   "cell_type": "code",
   "execution_count": 39,
   "metadata": {},
   "outputs": [
    {
     "name": "stdout",
     "output_type": "stream",
     "text": [
      "F1-score of the algorithm is 0.762781\n"
     ]
    }
   ],
   "source": [
    "from sklearn.metrics import f1_score\n",
    "print('F1-score of the algorithm is %f' %(f1_score(np.argmax(y_test,axis=1), Y_test_hat)))"
   ]
  },
  {
   "cell_type": "code",
   "execution_count": null,
   "metadata": {
    "collapsed": true
   },
   "outputs": [],
   "source": []
  },
  {
   "cell_type": "code",
   "execution_count": 110,
   "metadata": {
    "collapsed": true
   },
   "outputs": [],
   "source": [
    "Y_test_hat = np.argmax(model.predict(X),axis=1)"
   ]
  },
  {
   "cell_type": "code",
   "execution_count": 111,
   "metadata": {},
   "outputs": [
    {
     "data": {
      "text/plain": [
       "array([0, 0, 0, ..., 1, 0, 0], dtype=int64)"
      ]
     },
     "execution_count": 111,
     "metadata": {},
     "output_type": "execute_result"
    }
   ],
   "source": [
    "Y_test_hat"
   ]
  },
  {
   "cell_type": "code",
   "execution_count": 113,
   "metadata": {
    "collapsed": true
   },
   "outputs": [],
   "source": [
    "df_test['prediction'] = Y_test_hat"
   ]
  },
  {
   "cell_type": "code",
   "execution_count": 118,
   "metadata": {
    "collapsed": true
   },
   "outputs": [],
   "source": [
    "results = df_train[['id','prediction']]"
   ]
  },
  {
   "cell_type": "code",
   "execution_count": 120,
   "metadata": {
    "collapsed": true
   },
   "outputs": [],
   "source": [
    "results.to_csv('temp_team.csv')"
   ]
  },
  {
   "cell_type": "code",
   "execution_count": 124,
   "metadata": {
    "collapsed": true
   },
   "outputs": [],
   "source": [
    "df_train[['id','review','cleaned_text']].to_csv('cleaned_training.csv')"
   ]
  },
  {
   "cell_type": "code",
   "execution_count": 6,
   "metadata": {
    "collapsed": true
   },
   "outputs": [],
   "source": [
    "plot_model(model, to_file=\"model.png\", show_shapes=True)"
   ]
  },
  {
   "cell_type": "code",
   "execution_count": 22,
   "metadata": {
    "collapsed": true
   },
   "outputs": [],
   "source": [
    "import pickle\n",
    "f = open(\"Data/train_test_data.pkl\", 'rb')"
   ]
  },
  {
   "cell_type": "code",
   "execution_count": 23,
   "metadata": {
    "collapsed": true
   },
   "outputs": [],
   "source": [
    "data = pickle.load(f)"
   ]
  },
  {
   "cell_type": "code",
   "execution_count": 35,
   "metadata": {
    "collapsed": true
   },
   "outputs": [],
   "source": [
    "X_train = data[\"X_train\"]\n",
    "y_train = data[\"y_train\"]\n",
    "X_test = data[\"X_test\"]\n",
    "y_test = data[\"y_test\"]"
   ]
  },
  {
   "cell_type": "markdown",
   "metadata": {},
   "source": [
    "## TextBlob"
   ]
  },
  {
   "cell_type": "code",
   "execution_count": 40,
   "metadata": {
    "collapsed": true
   },
   "outputs": [],
   "source": [
    "from textblob import TextBlob"
   ]
  },
  {
   "cell_type": "code",
   "execution_count": 56,
   "metadata": {
    "collapsed": true
   },
   "outputs": [],
   "source": [
    "def get_polarity(review):\n",
    "    polarity = TextBlob(review).sentiment.polarity\n",
    "    if polarity > 0:\n",
    "        return 1\n",
    "    else:\n",
    "        return 0"
   ]
  },
  {
   "cell_type": "code",
   "execution_count": 69,
   "metadata": {
    "collapsed": true
   },
   "outputs": [],
   "source": [
    "polarity_pred = analyzer.polarity_scores(cleaned_train['review'][3])"
   ]
  },
  {
   "cell_type": "code",
   "execution_count": 81,
   "metadata": {
    "collapsed": true
   },
   "outputs": [],
   "source": [
    "polarity_pred_blob = [get_polarity(review) for review in cleaned_train['review']]"
   ]
  },
  {
   "cell_type": "code",
   "execution_count": 80,
   "metadata": {
    "collapsed": true
   },
   "outputs": [],
   "source": [
    "y_pred_blob = polarity_pred"
   ]
  },
  {
   "cell_type": "code",
   "execution_count": 70,
   "metadata": {
    "collapsed": true
   },
   "outputs": [],
   "source": [
    "y_true = cleaned_train['sentiment']"
   ]
  },
  {
   "cell_type": "code",
   "execution_count": 71,
   "metadata": {},
   "outputs": [
    {
     "data": {
      "text/plain": [
       "0.69675834191963226"
      ]
     },
     "execution_count": 71,
     "metadata": {},
     "output_type": "execute_result"
    }
   ],
   "source": [
    "from sklearn.metrics import accuracy_score\n",
    "accuracy_score(y_true, polarity_pred)"
   ]
  },
  {
   "cell_type": "code",
   "execution_count": 61,
   "metadata": {},
   "outputs": [
    {
     "data": {
      "text/plain": [
       "(7860,)"
      ]
     },
     "execution_count": 61,
     "metadata": {},
     "output_type": "execute_result"
    }
   ],
   "source": [
    "y_true.shape"
   ]
  },
  {
   "cell_type": "code",
   "execution_count": 63,
   "metadata": {},
   "outputs": [
    {
     "data": {
      "text/plain": [
       "Index(['id', 'review'], dtype='object')"
      ]
     },
     "execution_count": 63,
     "metadata": {},
     "output_type": "execute_result"
    }
   ],
   "source": [
    "df_train.keys()"
   ]
  },
  {
   "cell_type": "code",
   "execution_count": 68,
   "metadata": {
    "collapsed": true
   },
   "outputs": [],
   "source": [
    "cleaned_train = pd.read_csv('Data/cleaned_train.csv')"
   ]
  },
  {
   "cell_type": "markdown",
   "metadata": {},
   "source": [
    "## Vader sentiment"
   ]
  },
  {
   "cell_type": "code",
   "execution_count": 73,
   "metadata": {
    "collapsed": true
   },
   "outputs": [],
   "source": [
    "from vaderSentiment.vaderSentiment import SentimentIntensityAnalyzer"
   ]
  },
  {
   "cell_type": "code",
   "execution_count": 79,
   "metadata": {},
   "outputs": [
    {
     "data": {
      "text/plain": [
       "{'compound': 0.9454, 'neg': 0.061, 'neu': 0.776, 'pos': 0.163}"
      ]
     },
     "execution_count": 79,
     "metadata": {},
     "output_type": "execute_result"
    }
   ],
   "source": [
    "analyzer = SentimentIntensityAnalyzer()"
   ]
  },
  {
   "cell_type": "code",
   "execution_count": 82,
   "metadata": {
    "collapsed": true
   },
   "outputs": [],
   "source": [
    "def get_compound(review):\n",
    "    compound = analyzer.polarity_scores(review)['compound']\n",
    "    if compound > 0:\n",
    "        return 1\n",
    "    else:\n",
    "        return 0"
   ]
  },
  {
   "cell_type": "code",
   "execution_count": 83,
   "metadata": {
    "collapsed": true
   },
   "outputs": [],
   "source": [
    "polarity_pred_analyzer = [get_compound(review) for review in cleaned_train['review']]"
   ]
  },
  {
   "cell_type": "code",
   "execution_count": 84,
   "metadata": {
    "collapsed": true
   },
   "outputs": [],
   "source": [
    "y_pred_vader = polarity_pred_analyzer"
   ]
  },
  {
   "cell_type": "code",
   "execution_count": 85,
   "metadata": {},
   "outputs": [
    {
     "data": {
      "text/plain": [
       "0.69081398113656178"
      ]
     },
     "execution_count": 85,
     "metadata": {},
     "output_type": "execute_result"
    }
   ],
   "source": [
    "accuracy_score(y_true, y_pred_vader)"
   ]
  },
  {
   "cell_type": "code",
   "execution_count": null,
   "metadata": {
    "collapsed": true
   },
   "outputs": [],
   "source": []
  }
 ],
 "metadata": {
  "kernelspec": {
   "display_name": "Python 3",
   "language": "python",
   "name": "python3"
  },
  "language_info": {
   "codemirror_mode": {
    "name": "ipython",
    "version": 3
   },
   "file_extension": ".py",
   "mimetype": "text/x-python",
   "name": "python",
   "nbconvert_exporter": "python",
   "pygments_lexer": "ipython3",
   "version": "3.6.2"
  }
 },
 "nbformat": 4,
 "nbformat_minor": 2
}
